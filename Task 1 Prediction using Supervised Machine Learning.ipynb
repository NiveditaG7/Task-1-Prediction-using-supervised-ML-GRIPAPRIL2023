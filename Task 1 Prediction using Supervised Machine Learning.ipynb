{
 "cells": [
  {
   "cell_type": "markdown",
   "id": "c97edddb",
   "metadata": {},
   "source": [
    "# Nivedita Ghosalkar"
   ]
  },
  {
   "cell_type": "markdown",
   "id": "b7bb4e80",
   "metadata": {},
   "source": [
    "# GRIP APRIL23:-The Sparks Foundation"
   ]
  },
  {
   "cell_type": "markdown",
   "id": "86c7ba04",
   "metadata": {},
   "source": [
    "# Task 1 :- Prediction using Supervised Machine Learning"
   ]
  },
  {
   "cell_type": "raw",
   "id": "b1ffe9fe",
   "metadata": {},
   "source": [
    "Prediction using Simple Linear Regression.\n",
    "\n",
    "Regression is the study of Dependence between two variables that means it will try to tell you how an outcome or an \n",
    "independant variable will affect a dependant variable.It tries to find out the relationship between a response i.e.\n",
    "dependant variable Y and or predictor variable X.\n",
    "\n",
    "Here, we are using Simple Linear Regression when we are only concerned with single independant variable affecting a \n",
    "dependant variable."
   ]
  },
  {
   "cell_type": "markdown",
   "id": "e40e2b53",
   "metadata": {},
   "source": [
    "In this Task we are predicting the percentage of marks that student scores based on the number of study hours."
   ]
  },
  {
   "cell_type": "code",
   "execution_count": 5,
   "id": "4a2c2543",
   "metadata": {},
   "outputs": [],
   "source": [
    "#Importing libraries\n",
    "\n",
    "import numpy as np\n",
    "import pandas as pd\n",
    "import matplotlib.pyplot as plt\n",
    "%matplotlib inline"
   ]
  },
  {
   "cell_type": "code",
   "execution_count": 13,
   "id": "bdef2ffe",
   "metadata": {},
   "outputs": [
    {
     "name": "stdout",
     "output_type": "stream",
     "text": [
      "    Hours  Scores\n",
      "0     2.5      21\n",
      "1     5.1      47\n",
      "2     3.2      27\n",
      "3     8.5      75\n",
      "4     3.5      30\n",
      "5     1.5      20\n",
      "6     9.2      88\n",
      "7     5.5      60\n",
      "8     8.3      81\n",
      "9     2.7      25\n",
      "10    7.7      85\n",
      "11    5.9      62\n",
      "12    4.5      41\n",
      "13    3.3      42\n",
      "14    1.1      17\n",
      "15    8.9      95\n",
      "16    2.5      30\n",
      "17    1.9      24\n",
      "18    6.1      67\n",
      "19    7.4      69\n",
      "20    2.7      30\n",
      "21    4.8      54\n",
      "22    3.8      35\n",
      "23    6.9      76\n",
      "24    7.8      86\n"
     ]
    },
    {
     "data": {
      "text/html": [
       "<div>\n",
       "<style scoped>\n",
       "    .dataframe tbody tr th:only-of-type {\n",
       "        vertical-align: middle;\n",
       "    }\n",
       "\n",
       "    .dataframe tbody tr th {\n",
       "        vertical-align: top;\n",
       "    }\n",
       "\n",
       "    .dataframe thead th {\n",
       "        text-align: right;\n",
       "    }\n",
       "</style>\n",
       "<table border=\"1\" class=\"dataframe\">\n",
       "  <thead>\n",
       "    <tr style=\"text-align: right;\">\n",
       "      <th></th>\n",
       "      <th>Hours</th>\n",
       "      <th>Scores</th>\n",
       "    </tr>\n",
       "  </thead>\n",
       "  <tbody>\n",
       "    <tr>\n",
       "      <th>0</th>\n",
       "      <td>2.5</td>\n",
       "      <td>21</td>\n",
       "    </tr>\n",
       "    <tr>\n",
       "      <th>1</th>\n",
       "      <td>5.1</td>\n",
       "      <td>47</td>\n",
       "    </tr>\n",
       "    <tr>\n",
       "      <th>2</th>\n",
       "      <td>3.2</td>\n",
       "      <td>27</td>\n",
       "    </tr>\n",
       "    <tr>\n",
       "      <th>3</th>\n",
       "      <td>8.5</td>\n",
       "      <td>75</td>\n",
       "    </tr>\n",
       "    <tr>\n",
       "      <th>4</th>\n",
       "      <td>3.5</td>\n",
       "      <td>30</td>\n",
       "    </tr>\n",
       "    <tr>\n",
       "      <th>5</th>\n",
       "      <td>1.5</td>\n",
       "      <td>20</td>\n",
       "    </tr>\n",
       "    <tr>\n",
       "      <th>6</th>\n",
       "      <td>9.2</td>\n",
       "      <td>88</td>\n",
       "    </tr>\n",
       "    <tr>\n",
       "      <th>7</th>\n",
       "      <td>5.5</td>\n",
       "      <td>60</td>\n",
       "    </tr>\n",
       "    <tr>\n",
       "      <th>8</th>\n",
       "      <td>8.3</td>\n",
       "      <td>81</td>\n",
       "    </tr>\n",
       "    <tr>\n",
       "      <th>9</th>\n",
       "      <td>2.7</td>\n",
       "      <td>25</td>\n",
       "    </tr>\n",
       "    <tr>\n",
       "      <th>10</th>\n",
       "      <td>7.7</td>\n",
       "      <td>85</td>\n",
       "    </tr>\n",
       "    <tr>\n",
       "      <th>11</th>\n",
       "      <td>5.9</td>\n",
       "      <td>62</td>\n",
       "    </tr>\n",
       "  </tbody>\n",
       "</table>\n",
       "</div>"
      ],
      "text/plain": [
       "    Hours  Scores\n",
       "0     2.5      21\n",
       "1     5.1      47\n",
       "2     3.2      27\n",
       "3     8.5      75\n",
       "4     3.5      30\n",
       "5     1.5      20\n",
       "6     9.2      88\n",
       "7     5.5      60\n",
       "8     8.3      81\n",
       "9     2.7      25\n",
       "10    7.7      85\n",
       "11    5.9      62"
      ]
     },
     "execution_count": 13,
     "metadata": {},
     "output_type": "execute_result"
    }
   ],
   "source": [
    "#Loading data set\n",
    "\n",
    "dataset = \"http://bit.ly/w-data\"\n",
    "Data = pd.read_csv(dataset)\n",
    "print(Data)\n",
    "\n",
    "Data.head(12)"
   ]
  },
  {
   "cell_type": "code",
   "execution_count": 14,
   "id": "3862c4d2",
   "metadata": {},
   "outputs": [
    {
     "data": {
      "image/png": "[encoded data removed]",
      "text/plain": [
       "<Figure size 640x480 with 1 Axes>"
      ]
     },
     "metadata": {},
     "output_type": "display_data"
    }
   ],
   "source": [
    "#Lets plot a Scatter plot diagram \n",
    "\n",
    "Data.plot(x = 'Hours', y = 'Scores', style = 'o')\n",
    "plt.title(\"Percentage vs Hours\")\n",
    "plt.xlabel(\"Hours\")\n",
    "plt.ylabel(\"Scores\")\n",
    "plt.legend()\n",
    "plt.show()"
   ]
  },
  {
   "cell_type": "markdown",
   "id": "2e51c442",
   "metadata": {},
   "source": [
    "Through the Scatter plot we can see that there is a perfect positive correlation between hours studied and percentage of scores."
   ]
  },
  {
   "cell_type": "markdown",
   "id": "b9c24c86",
   "metadata": {},
   "source": [
    "Now we are dividing the Data set into set of indicator and predicator variables."
   ]
  },
  {
   "cell_type": "code",
   "execution_count": 15,
   "id": "fc1b1879",
   "metadata": {},
   "outputs": [],
   "source": [
    "data = Data.iloc[:, 0:-1].values\n",
    "target = Data.iloc[:, 1].values"
   ]
  },
  {
   "cell_type": "code",
   "execution_count": 16,
   "id": "a33faf33",
   "metadata": {},
   "outputs": [],
   "source": [
    "#The pair of arrays data_train and target_train will be used for Learning the supervised model.\n",
    "#Whereas, data_test and target_test for model testing.\n",
    "\n",
    "#Loading train_test_split library from scikit learn for Hold-out environment.\n",
    "\n",
    "from sklearn.model_selection import train_test_split \n",
    "data_train, data_test, target_train, target_test = train_test_split(data , target, test_size = 0.3,random_state = 0)"
   ]
  },
  {
   "cell_type": "code",
   "execution_count": 17,
   "id": "5b725ec1",
   "metadata": {},
   "outputs": [],
   "source": [
    "#Import required library from sklearn to train the model.\n",
    "from sklearn.linear_model import LinearRegression\n",
    "\n",
    "lr = LinearRegression()\n"
   ]
  },
  {
   "cell_type": "code",
   "execution_count": 18,
   "id": "3df49dce",
   "metadata": {},
   "outputs": [],
   "source": [
    "#Fit a line to the observations\n",
    "lr.fit(data_train,  target_train)\n",
    "\n",
    "#bo and b1 are found\n",
    "\n",
    "Line = lr.coef_*data + lr.intercept_"
   ]
  },
  {
   "cell_type": "code",
   "execution_count": 19,
   "id": "7d4541a1",
   "metadata": {},
   "outputs": [
    {
     "data": {
      "image/png": "[encoded data removed]",
      "text/plain": [
       "<Figure size 640x480 with 1 Axes>"
      ]
     },
     "metadata": {},
     "output_type": "display_data"
    }
   ],
   "source": [
    "#Lets draw line closely fitting to data points.\n",
    "\n",
    "plt.scatter(data, target, s = 3, label = 'training')\n",
    "plt.plot(data, Line, label = 'prediction')\n",
    "\n",
    "plt.xlabel(\"data\")\n",
    "plt.ylabel(\"target\")\n",
    "plt.legend()\n",
    "plt.show()\n",
    "\n"
   ]
  },
  {
   "cell_type": "code",
   "execution_count": 20,
   "id": "0f463fe1",
   "metadata": {},
   "outputs": [
    {
     "name": "stdout",
     "output_type": "stream",
     "text": [
      "[[1.5]\n",
      " [3.2]\n",
      " [7.4]\n",
      " [2.5]\n",
      " [5.9]\n",
      " [3.8]\n",
      " [1.9]\n",
      " [7.8]]\n"
     ]
    }
   ],
   "source": [
    "#Testing trained model on test set\n",
    "\n",
    "print(data_test)\n",
    "\n",
    "target = lr.predict(data_test)"
   ]
  },
  {
   "cell_type": "markdown",
   "id": "5924d31a",
   "metadata": {},
   "source": [
    "Time to test our model for testing hours provided i.e. if the student studies for 9.25hrs/day what will be the predicted score?"
   ]
  },
  {
   "cell_type": "code",
   "execution_count": 22,
   "id": "47dfddfc",
   "metadata": {},
   "outputs": [
    {
     "name": "stdout",
     "output_type": "stream",
     "text": [
      "No. of Hours = [[9.25]]\n",
      "Prediction Score = 92.91505723477056\n"
     ]
    }
   ],
   "source": [
    "Hours = [[9.25]]  \n",
    "True_pred = lr.predict(Hours)  \n",
    "print(\"No. of Hours = {}\".format(Hours))  \n",
    "print(\"Prediction Score = {}\".format(True_pred[0])) "
   ]
  },
  {
   "cell_type": "markdown",
   "id": "ad07d192",
   "metadata": {},
   "source": [
    "So, from the above testing of model if the student studies for 9.25hrs/day then the student may score 92.91."
   ]
  }
 ],
 "metadata": {
  "kernelspec": {
   "display_name": "Python 3 (ipykernel)",
   "language": "python",
   "name": "python3"
  },
  "language_info": {
   "codemirror_mode": {
    "name": "ipython",
    "version": 3
   },
   "file_extension": ".py",
   "mimetype": "text/x-python",
   "name": "python",
   "nbconvert_exporter": "python",
   "pygments_lexer": "ipython3",
   "version": "3.9.13"
  }
 },
 "nbformat": 4,
 "nbformat_minor": 5
}
